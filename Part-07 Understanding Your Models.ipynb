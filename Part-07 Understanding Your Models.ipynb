{
 "cells": [
  {
   "cell_type": "markdown",
   "metadata": {},
   "source": [
    "15-20 Pages (Graphics and Charts Heavy)\n",
    "\n",
    "# DESCRIPTION: \n",
    "For making a practical use of our models, we need to look beyond accuracy. We need to understand what the model gets right or wrong in order to improve it. We start with machine learning concepts such as confusion matrix, and metrics associated with it. \n",
    "\n",
    "We also look at using interactive visualization tools such as **t-SNE** for visualizing the text. We also discuss the idea of using custom embeddings such as sentence embeddings averaged from word embeddings. \n",
    "\n",
    "This is solely for the purpose of gaining insight into the model and its inputs. In order to this, we will learn some of the most popular tools such scikit-learn metrics for _confusion matrix, matplotlib and seaborn_ for visualization. \n",
    "\n",
    "Lastly, we conclude with code explaining how to use the incredibly powerful **LIME** and **Shapley Additive Explanations** based techniques for NLP model interpretation. This is the only book to cover them in sufficient depth with hands on examples. They are modern bleeding edge tools, with shap still under active deployment. "
   ]
  },
  {
   "cell_type": "markdown",
   "metadata": {},
   "source": [
    "## Main Headings : \n",
    "- HEADING 1: Evaluating your model : Is the Judge biased? \n",
    "- HEADING 2: Confusion Matrix and Related Metrics\n",
    "- HEADING 3: t-SNE for text visualization\n",
    "- HEADING 4: Seeing is Believing: Confusion Matrix Visuals\n",
    "- HEADING 5: LIME and shap from slundberg\n",
    "\n",
    "## Skills learned:\n",
    "- SKILL 1: Understanding bias\n",
    "- SKILL 2: sklearn metrics API\n",
    "- SKILL 3: text visualization\n",
    "- SKILL 4: Confusion Matrix Visualization with Matplotlib and seaborn\n",
    "- SKILL 5: Interpreting complex models"
   ]
  },
  {
   "cell_type": "code",
   "execution_count": null,
   "metadata": {},
   "outputs": [],
   "source": []
  }
 ],
 "metadata": {
  "kernelspec": {
   "display_name": "fastAI",
   "language": "python",
   "name": "fastai"
  },
  "language_info": {
   "codemirror_mode": {
    "name": "ipython",
    "version": 3
   },
   "file_extension": ".py",
   "mimetype": "text/x-python",
   "name": "python",
   "nbconvert_exporter": "python",
   "pygments_lexer": "ipython3",
   "version": "3.6.5"
  }
 },
 "nbformat": 4,
 "nbformat_minor": 2
}
