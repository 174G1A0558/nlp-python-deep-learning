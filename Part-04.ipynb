{
 "cells": [
  {
   "cell_type": "markdown",
   "metadata": {},
   "source": [
    "Text Representations: Words to Numbers\n",
    "---\n",
    "\n",
    "Computers today can not act on words or text directly. They need to be represented by meaningful number sequences. These long sequences of decimal numbers are called vectors. \n",
    "Where are these word vectors used?\n",
    "\n",
    "- Text Classification and Summarization tasks\n",
    "- Similar words search e.g. synonyms, logically similar\n",
    "- Machine Translation (e.g Translate text from English to German)\n",
    "- Understanding Similar texts (e.g. fb feed articles) \n",
    "- Question Answering and doing tasks (e.g chatbots in scheduling appointments etc.)\n",
    "\n",
    "We will look at the most common ways to make these sequences called one hot embedding and TF-IDF. Then we will look at the intuition behind popular word vectors :\n",
    "- word2vec by Google and GloVe by Stanford\n",
    "- ConceptNet Numberbatch - modern and best word embeddings\n",
    "- fastText by Facebook as a better version of word2vec\n",
    "\n",
    "Lastly, we look at text sequences larger than words and try to make sentence and document embeddings. doc2vec is a popular adaptation of the same. We will use gensim and gensim-data to play and evaluate above. \n",
    "\n",
    "Level: ADVANCED \n",
    "\n",
    "- Introducing gensim and gensim-data\n",
    "- word2vec, GloVe and modern: ConceptNet-Numberbatch and fastText\n",
    "- Understanding Word Vectors\n",
    "- Integrating with Text Classification\n",
    "\n",
    "What will you be able to do by end of it? \n",
    "- SKILL 1: Vectorization of Text\n",
    "- SKILL 2: Using gensim and gensim-data for topic modeling\n",
    "- SKILL 3: Using word2vec, GloVe and fastText \n",
    "- SKILL 4: Integrating Text Representations with Classification and Basic Visualization\n",
    "- SKILL 5: Creating sentence and document vectors for Information Retrieval by using word2vec adaptations: sent2vec and doc2vec\n"
   ]
  },
  {
   "cell_type": "code",
   "execution_count": null,
   "metadata": {
    "collapsed": true
   },
   "outputs": [],
   "source": [
    "import spacy\n",
    "nlp = spacy.load('en')"
   ]
  },
  {
   "cell_type": "markdown",
   "metadata": {},
   "source": [
    "If there is an error above, try:\n",
    "- Windows Shell:```python -m spacy download en``` as **Administrator**\n",
    "- Linux Terminal:```sudo python -m spacy download en ```"
   ]
  },
  {
   "cell_type": "markdown",
   "metadata": {},
   "source": []
  },
  {
   "cell_type": "code",
   "execution_count": 4,
   "metadata": {},
   "outputs": [
    {
     "name": "stdout",
     "output_type": "stream",
     "text": [
      "Loading channels: ...working... done\n",
      "Name                       Version                   Build  Channel        \n",
      "gensim                     0.10.0               np18py26_0  defaults       \n",
      "gensim                     0.10.0               np18py27_0  defaults       \n",
      "gensim                     0.10.0               np18py33_0  defaults       \n",
      "gensim                     0.10.0               np18py34_0  defaults       \n",
      "gensim                     0.10.0               np19py26_0  defaults       \n",
      "gensim                     0.10.0               np19py27_0  defaults       \n",
      "gensim                     0.10.0               np19py33_0  defaults       \n",
      "gensim                     0.10.0               np19py34_0  defaults       \n",
      "gensim                     0.10.2               np19py26_0  defaults       \n",
      "gensim                     0.10.2               np19py27_0  defaults       \n",
      "gensim                     0.10.2               np19py33_0  defaults       \n",
      "gensim                     0.10.2               np19py34_0  defaults       \n",
      "gensim                     0.10.3               np19py26_0  defaults       \n",
      "gensim                     0.10.3               np19py27_0  defaults       \n",
      "gensim                     0.10.3               np19py33_0  defaults       \n",
      "gensim                     0.10.3               np19py34_0  defaults       \n",
      "gensim                     0.12.1               np19py27_0  defaults       \n",
      "gensim                     0.12.2              np110py27_0  defaults       \n",
      "gensim                     0.12.2              np110py34_0  defaults       \n",
      "gensim                     0.12.2              np110py35_0  defaults       \n",
      "gensim                     0.12.2               np19py27_0  defaults       \n",
      "gensim                     0.12.4              np110py27_0  defaults       \n",
      "gensim                     0.12.4              np110py34_0  defaults       \n",
      "gensim                     0.12.4              np110py35_0  defaults       \n",
      "gensim                     0.12.4              np111py27_0  defaults       \n",
      "gensim                     0.12.4              np111py34_0  defaults       \n",
      "gensim                     0.12.4              np111py35_0  defaults       \n",
      "gensim                     0.13.3              np111py27_0  defaults       \n",
      "gensim                     0.13.3              np111py34_0  defaults       \n",
      "gensim                     0.13.3              np111py35_0  defaults       \n",
      "gensim                     0.13.4              np111py27_0  defaults       \n",
      "gensim                     0.13.4              np111py34_0  defaults       \n",
      "gensim                     0.13.4              np111py35_0  defaults       \n",
      "gensim                     0.13.4              np111py36_0  defaults       \n",
      "gensim                     0.13.4.1            np111py27_0  defaults       \n",
      "gensim                     0.13.4.1            np111py34_0  defaults       \n",
      "gensim                     0.13.4.1            np111py35_0  defaults       \n",
      "gensim                     0.13.4.1            np111py36_0  defaults       \n",
      "gensim                     0.13.4.1            np112py27_0  defaults       \n",
      "gensim                     0.13.4.1            np112py35_0  defaults       \n",
      "gensim                     0.13.4.1            np112py36_0  defaults       \n",
      "gensim                     1.0.1               np111py27_0  defaults       \n",
      "gensim                     1.0.1               np111py35_0  defaults       \n",
      "gensim                     1.0.1               np111py36_0  defaults       \n",
      "gensim                     1.0.1               np112py27_0  defaults       \n",
      "gensim                     1.0.1               np112py35_0  defaults       \n",
      "gensim                     1.0.1               np112py36_0  defaults       \n",
      "gensim                     1.0.1               np113py27_0  defaults       \n",
      "gensim                     1.0.1               np113py35_0  defaults       \n",
      "gensim                     1.0.1               np113py36_0  defaults       \n",
      "gensim                     2.1.0               np112py27_0  defaults       \n",
      "gensim                     2.1.0               np112py35_0  defaults       \n",
      "gensim                     2.1.0               np112py36_0  defaults       \n",
      "gensim                     2.1.0               np113py27_0  defaults       \n",
      "gensim                     2.1.0               np113py35_0  defaults       \n",
      "gensim                     2.1.0               np113py36_0  defaults       \n",
      "gensim                     2.2.0               np112py27_0  defaults       \n",
      "gensim                     2.2.0               np112py35_0  defaults       \n",
      "gensim                     2.2.0               np112py36_0  defaults       \n",
      "gensim                     2.2.0               np113py27_0  defaults       \n",
      "gensim                     2.2.0               np113py35_0  defaults       \n",
      "gensim                     2.2.0               np113py36_0  defaults       \n",
      "gensim                     2.3.0               np112py27_0  defaults       \n",
      "gensim                     2.3.0               np112py35_0  defaults       \n",
      "gensim                     2.3.0               np112py36_0  defaults       \n",
      "gensim                     2.3.0               np113py27_0  defaults       \n",
      "gensim                     2.3.0               np113py35_0  defaults       \n",
      "gensim                     2.3.0               np113py36_0  defaults       \n",
      "gensim                     3.0.1           py27_vc9h9787f6f_0  defaults       \n",
      "gensim                     3.0.1           py35_vc14hf5afb6f_0  defaults       \n",
      "gensim                     3.0.1           py36_vc14hb0e632d_0  defaults       \n",
      "gensim                     3.1.0           py27_vc9hda3ffb8_0  defaults       \n",
      "gensim                     3.1.0           py35_vc14hae8a451_0  defaults       \n",
      "gensim                     3.1.0           py36_vc14h29988f6_0  defaults       \n",
      "gensim                     3.3.0            py27hc997a72_0  defaults       \n",
      "gensim                     3.3.0            py35h452e1ab_0  defaults       \n",
      "gensim                     3.3.0            py36h452e1ab_0  defaults       \n",
      "gensim                     3.4.0            py27hc997a72_0  defaults       \n",
      "gensim                     3.4.0            py35h452e1ab_0  defaults       \n",
      "gensim                     3.4.0            py36h452e1ab_0  defaults       \n"
     ]
    }
   ],
   "source": [
    "!conda search gensim"
   ]
  },
  {
   "cell_type": "code",
   "execution_count": null,
   "metadata": {
    "collapsed": true
   },
   "outputs": [],
   "source": []
  }
 ],
 "metadata": {
  "kernelspec": {
   "display_name": "fastAI",
   "language": "python",
   "name": "fastai"
  },
  "language_info": {
   "codemirror_mode": {
    "name": "ipython",
    "version": 3
   },
   "file_extension": ".py",
   "mimetype": "text/x-python",
   "name": "python",
   "nbconvert_exporter": "python",
   "pygments_lexer": "ipython3",
   "version": "3.6.4"
  }
 },
 "nbformat": 4,
 "nbformat_minor": 2
}
