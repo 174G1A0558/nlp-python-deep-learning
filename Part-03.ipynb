{
 "cells": [
  {
   "cell_type": "markdown",
   "metadata": {},
   "source": [
    "# Leveraging Linguistics"
   ]
  },
  {
   "cell_type": "markdown",
   "metadata": {},
   "source": [
    "## Main Headings :\n",
    "- HEADING 1: Linguistic Roots of English Language\n",
    "- HEADING 2: Leveraging Language: Example Tasks - Chat bots and Search\n",
    "- HEADING 3: PoS Tagging, NP Chunking\n",
    "- HEADING 4: NER: Inbuilt models\n",
    "- HEADING 5: Gluing it all together\n",
    "\n",
    "## Skills learned:\n",
    "- SKILL 1: Linguistic Concepts in NLP\n",
    "- SKILL 2: Spelling Correction, Slot Filling\n",
    "- SKILL 3: Linguistic Tasks using spaCy\n",
    "- SKILL 4: NER with spaCy pipelines\n",
    "- SKILL 5: End to end spacy implementation with a toy example\n"
   ]
  },
  {
   "cell_type": "code",
   "execution_count": 1,
   "metadata": {
    "collapsed": true
   },
   "outputs": [],
   "source": [
    "import spacy"
   ]
  },
  {
   "cell_type": "markdown",
   "metadata": {},
   "source": [
    "If there is an error above, try:\n",
    "- Windows Shell:```python -m spacy download en``` as **Administrator**\n",
    "- Linux Terminal:```sudo python -m spacy download en ```"
   ]
  },
  {
   "cell_type": "markdown",
   "metadata": {},
   "source": [
    "## Linguistics\n",
    "\n",
    "### Linguistics Application: Chatbots\n",
    "Chat bots or conversational systems such as Siri need to have intricate understanding of language to do two main things: \n",
    "1. Understand human input in either text or voice\n",
    "    - this input is different from how we use search, for instance we might enter the exact item we want to buy in Amazon search but we will might Alexa for suggestions on best toys for 3 year olds\n",
    "\n",
    "2. Generate language response\n",
    "    - What does a Google search for *Steve Jobs Birthday* return for you? A list of web pages. On the other hand, you would expect Siri not only tell the exact date of Job's birth - but also a proper sentence such as: *Steve Jobs was born on 24 Feb 1955*\n",
    "\n",
    "\n",
    "\n",
    "The way we study language is referred to as linguistics. This section covers language concepts as applied to Natural Language Processing. \n",
    "\n",
    "We have seen some of this when we studied English Grammar back in our school days. Famously, you might want to recap the following: _noun_, _verb_, _gerund_ and so on. \n",
    "\n"
   ]
  },
  {
   "cell_type": "markdown",
   "metadata": {},
   "source": [
    "On Spell Correction for Search: \n",
    "\n",
    "- Autocomplete: https://www.elastic.co/guide/en/elasticsearch/reference/current/search-suggesters-completion.html\n",
    "- Edge Ngram Tokenizer: https://www.elastic.co/guide/en/elasticsearch/reference/current/analysis-edgengram-tokenizer.html\n",
    "- BigBasket blog: https://medium.com/@NirantK/engineer-s-guide-to-search-v0-1-6b995a50c816 \n",
    "    - good for examples on term expansion with screenshots\n",
    "    \n",
    "- Do not use autocorrect from pip - it has not been maintained for \\~2 years now"
   ]
  },
  {
   "cell_type": "markdown",
   "metadata": {},
   "source": [
    "### Slot Filling vs NER\n",
    "The goals of slot filling are different. Slot filling is looking for specific pieces of information with respect to something. For instance, you might ask Siri or Google Assistant - _Who is the spouse of Sachin Tendulkar?_\n",
    "\n",
    "In this example, you are looking for _spouse_ with respect to _Sachin Tendulkar_. \n",
    "\n",
    "Now this response information can be named entities _e.g. who is spouse of this person?_ but can also be other things _e.g. when was this person born?_ \n",
    "\n",
    "Exactly what information depends on the application, but Wikipedia info boxes are a good example. \n",
    "TKX Add Wiki info box screenshot of Sachin Tendulkar\n",
    "TKX TIP: Similar thought process is quite useful for building a chatbot, say for customer service. \n",
    "\n",
    "NER is more generic and just looks for things. When we mean things, usually they are nouns such as names, like people, companies, places, etc. Your focus is not on the relation between these things. \n",
    "\n",
    "For instance, BookMyShow allows you to book tickets via WhatsApp. \n",
    "\n",
    "TKX: Add BMS screenshots from phone\n",
    "\n",
    "TKX: This example needs to be worked out better\n",
    "The relation is a movie, which has following _slots_:date, screen, theatre/movie hall name. A NER system would just tag <Bengaluru> and <movie name> as names of things, as opposed to 'dfsdf,' which is not the name of a specific individual thing. If the sentence said 'adasda' instead of 'adasda,' NER would pick that out as a movie name. \n",
    "    \n",
    "Some NER taggers will also extract dates, money, and other numbers because they're useful, even though they're not really named entities.\n",
    "\n",
    "These tasks don't HAVE to be done using sequence tagging, either; slot-filling has been done with templates and multi-stage approaches (extract candidate phrases by tagging and then classify or rank)."
   ]
  },
  {
   "cell_type": "code",
   "execution_count": null,
   "metadata": {
    "collapsed": true
   },
   "outputs": [],
   "source": []
  }
 ],
 "metadata": {
  "kernelspec": {
   "display_name": "Python 3",
   "language": "python",
   "name": "python3"
  },
  "language_info": {
   "codemirror_mode": {
    "name": "ipython",
    "version": 3
   },
   "file_extension": ".py",
   "mimetype": "text/x-python",
   "name": "python",
   "nbconvert_exporter": "python",
   "pygments_lexer": "ipython3",
   "version": "3.6.3"
  }
 },
 "nbformat": 4,
 "nbformat_minor": 2
}
